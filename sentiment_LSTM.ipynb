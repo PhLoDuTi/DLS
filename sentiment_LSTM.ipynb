{
  "cells": [
    {
      "cell_type": "markdown",
      "source": [
        "Remember to put in the the file for the YELP dataset before running."
      ],
      "metadata": {
        "id": "rGDyVJROLFzT"
      }
    },
    {
      "cell_type": "markdown",
      "source": [
        "# Processing"
      ],
      "metadata": {
        "id": "BT8m4nrMN2XY"
      }
    },
    {
      "cell_type": "code",
      "execution_count": null,
      "metadata": {
        "id": "8WQQSiR8KXTM"
      },
      "outputs": [],
      "source": [
        "from tensorflow.keras.preprocessing.sequence import pad_sequences\n",
        "from tensorflow.keras import layers , activations , models , preprocessing , utils\n",
        "import tensorflow as tf\n",
        "from  sklearn.model_selection import train_test_split"
      ]
    },
    {
      "cell_type": "code",
      "execution_count": null,
      "metadata": {
        "id": "-roU8dgFKXTO",
        "outputId": "e34cb074-c23d-4425-9985-5d757e70dba9",
        "colab": {
          "base_uri": "https://localhost:8080/"
        }
      },
      "outputs": [
        {
          "output_type": "stream",
          "name": "stdout",
          "text": [
            "Read 992 items, skiped 8 error lines\n",
            "Label 0: 496 Label 1: 496\n"
          ]
        }
      ],
      "source": [
        "#doc du lieu ve dang data-label\n",
        "data=[]\n",
        "label=[]\n",
        "error=0\n",
        "with open('yelp_labelled.csv','r') as f:\n",
        "    for line in f:\n",
        "        part = line.strip().strip(',').split(',')\n",
        "        if len(part)<=1:\n",
        "            error+=1\n",
        "            continue\n",
        "        if part[-1]!='0' and part[-1]!='1':\n",
        "            error+=1\n",
        "            continue\n",
        "        data.append(\", \".join(part[:-1]))\n",
        "        label.append(int(part[-1]))\n",
        "print('Read',len(data),'items, skiped',error,'error lines')\n",
        "print('Label 0:',len(label)-sum(label),'Label 1:',sum(label))"
      ]
    },
    {
      "cell_type": "code",
      "execution_count": null,
      "metadata": {
        "id": "PbUG1oftKXTP",
        "outputId": "dd87cf46-7db2-4c24-97c3-a8316740e4ea",
        "colab": {
          "base_uri": "https://localhost:8080/"
        }
      },
      "outputs": [
        {
          "output_type": "stream",
          "name": "stdout",
          "text": [
            "['Wow... Loved this place.', 'Crust is not good.', 'Not tasty and the texture was just nasty.', 'Stopped by during the late May bank holiday off Rick Steve recommendation and loved it.', 'The selection on the menu was great and so were the prices.']\n",
            "[1, 0, 0, 1, 1]\n"
          ]
        }
      ],
      "source": [
        "print(data[:5])\n",
        "print(label[:5])"
      ]
    },
    {
      "cell_type": "code",
      "execution_count": null,
      "metadata": {
        "id": "zHY2MIT-KXTQ",
        "outputId": "ca214ad8-28a0-461c-9a31-779e4cd8cb09",
        "colab": {
          "base_uri": "https://localhost:8080/"
        }
      },
      "outputs": [
        {
          "output_type": "stream",
          "name": "stdout",
          "text": [
            "[[  0   0   0   0   0   0   0   0   0   0   0   0   0   0   0   0   0   0\n",
            "    0   0   0   0   0   0   0   0   0   0 424 164   8  15]\n",
            " [  0   0   0   0   0   0   0   0   0   0   0   0   0   0   0   0   0   0\n",
            "    0   0   0   0   0   0   0   0   0   0 582   7  12  16]\n",
            " [  0   0   0   0   0   0   0   0   0   0   0   0   0   0   0   0   0   0\n",
            "    0   0   0   0   0   0  12 149   2   1 425   4  45 426]\n",
            " [  0   0   0   0   0   0   0   0   0   0   0   0   0   0   0   0   0 583\n",
            "   73 289   1 584 290 893 894 180 895 896 427   2 164   9]\n",
            " [  0   0   0   0   0   0   0   0   0   0   0   0   0   0   0   0   0   0\n",
            "    0   0   1 165  35   1 109   4  22   2  26  27   1 166]]\n"
          ]
        }
      ],
      "source": [
        "tokenizer = tf.keras.preprocessing.text.Tokenizer(lower=True,split=' ')\n",
        "tokenizer.fit_on_texts(data)\n",
        "X = tokenizer.texts_to_sequences(data)\n",
        "X = pad_sequences(X)\n",
        "print(X[:5])"
      ]
    },
    {
      "cell_type": "code",
      "execution_count": null,
      "metadata": {
        "id": "oZs4aCyUKXTS",
        "outputId": "035e0582-75da-46f1-fe8a-01cd61ed5634",
        "colab": {
          "base_uri": "https://localhost:8080/"
        }
      },
      "outputs": [
        {
          "output_type": "stream",
          "name": "stdout",
          "text": [
            "input shape (992, 32)\n",
            "Vocab count 2054\n"
          ]
        }
      ],
      "source": [
        "print(\"input shape\",X.shape)\n",
        "n_vocab=len(tokenizer.word_index)+1\n",
        "print('Vocab count',n_vocab)"
      ]
    },
    {
      "cell_type": "code",
      "execution_count": null,
      "metadata": {
        "id": "0pFEiMvlKXTT",
        "outputId": "0e886aa5-a35a-423b-e767-502d74d43a8f",
        "colab": {
          "base_uri": "https://localhost:8080/"
        }
      },
      "outputs": [
        {
          "output_type": "stream",
          "name": "stdout",
          "text": [
            "2054\n",
            "32\n"
          ]
        }
      ],
      "source": [
        "print(n_vocab)\n",
        "print(X.shape[1])"
      ]
    },
    {
      "cell_type": "markdown",
      "source": [
        "# LTSM"
      ],
      "metadata": {
        "id": "__0WoiH4Nz2w"
      }
    },
    {
      "cell_type": "code",
      "execution_count": null,
      "metadata": {
        "id": "iwCzFVARKXTU",
        "outputId": "508c288e-e1b1-4526-afe2-d26882f6c1fe",
        "colab": {
          "base_uri": "https://localhost:8080/"
        }
      },
      "outputs": [
        {
          "output_type": "stream",
          "name": "stdout",
          "text": [
            "Model: \"sequential\"\n",
            "_________________________________________________________________\n",
            " Layer (type)                Output Shape              Param #   \n",
            "=================================================================\n",
            " embedding (Embedding)       (None, 32, 128)           262912    \n",
            "                                                                 \n",
            " lstm (LSTM)                 (None, 200)               263200    \n",
            "                                                                 \n",
            " dense (Dense)               (None, 128)               25728     \n",
            "                                                                 \n",
            " dense_1 (Dense)             (None, 2)                 258       \n",
            "                                                                 \n",
            "=================================================================\n",
            "Total params: 552,098\n",
            "Trainable params: 552,098\n",
            "Non-trainable params: 0\n",
            "_________________________________________________________________\n",
            "None\n"
          ]
        }
      ],
      "source": [
        "embed_dim = 128\n",
        "hidden_size = 200\n",
        "batch_size = 32\n",
        "\n",
        "model = models.Sequential()\n",
        "model.add(layers.Embedding(n_vocab, embed_dim, input_length = X.shape[1]))\n",
        "#model.add(layers.LSTM(hidden_size,return_sequences = True))\n",
        "model.add(layers.LSTM(hidden_size))\n",
        "model.add(layers.Dense(128,activation='sigmoid'))\n",
        "model.add(layers.Dense(2,activation='softmax'))\n",
        "model.compile(loss = 'categorical_crossentropy', optimizer='adam',metrics = ['accuracy'])\n",
        "print(model.summary())"
      ]
    },
    {
      "cell_type": "code",
      "execution_count": null,
      "metadata": {
        "id": "fCb4iTd8KXTV"
      },
      "outputs": [],
      "source": [
        "#tách train test\n",
        "Y = tf.keras.utils.to_categorical(label)\n",
        "X_train, X_valid, Y_train, Y_valid = train_test_split(X, Y, test_size = 0.25, random_state = 36)"
      ]
    },
    {
      "cell_type": "code",
      "execution_count": null,
      "metadata": {
        "id": "wqGaAoIqKXTV",
        "outputId": "bcf9556c-ca23-4f0c-9a19-ee95ae8c72bc",
        "colab": {
          "base_uri": "https://localhost:8080/"
        }
      },
      "outputs": [
        {
          "output_type": "stream",
          "name": "stdout",
          "text": [
            "Epoch 1/10\n",
            "21/21 [==============================] - 11s 195ms/step - loss: 0.6996 - accuracy: 0.5336 - val_loss: 0.6841 - val_accuracy: 0.5333\n",
            "Epoch 2/10\n",
            "21/21 [==============================] - 2s 110ms/step - loss: 0.6438 - accuracy: 0.6592 - val_loss: 0.5070 - val_accuracy: 0.7867\n",
            "Epoch 3/10\n",
            "21/21 [==============================] - 1s 53ms/step - loss: 0.3991 - accuracy: 0.8490 - val_loss: 0.4296 - val_accuracy: 0.8133\n",
            "Epoch 4/10\n",
            "21/21 [==============================] - 1s 59ms/step - loss: 0.1338 - accuracy: 0.9626 - val_loss: 0.4676 - val_accuracy: 0.8133\n",
            "Epoch 5/10\n",
            "21/21 [==============================] - 1s 37ms/step - loss: 0.0912 - accuracy: 0.9776 - val_loss: 0.4634 - val_accuracy: 0.8533\n",
            "Epoch 6/10\n",
            "21/21 [==============================] - 0s 15ms/step - loss: 0.0713 - accuracy: 0.9880 - val_loss: 0.5681 - val_accuracy: 0.7867\n",
            "Epoch 7/10\n",
            "21/21 [==============================] - 1s 23ms/step - loss: 0.0299 - accuracy: 0.9970 - val_loss: 0.6257 - val_accuracy: 0.8000\n",
            "Epoch 8/10\n",
            "21/21 [==============================] - 0s 23ms/step - loss: 0.0103 - accuracy: 0.9985 - val_loss: 0.6564 - val_accuracy: 0.8400\n",
            "Epoch 9/10\n",
            "21/21 [==============================] - 1s 30ms/step - loss: 0.0051 - accuracy: 1.0000 - val_loss: 0.6821 - val_accuracy: 0.8400\n",
            "Epoch 10/10\n",
            "21/21 [==============================] - 0s 16ms/step - loss: 0.0032 - accuracy: 1.0000 - val_loss: 0.7216 - val_accuracy: 0.8400\n"
          ]
        }
      ],
      "source": [
        "history = model.fit(X_train, Y_train, batch_size = batch_size, epochs = 10, verbose = 1, validation_split=0.1)"
      ]
    },
    {
      "cell_type": "code",
      "execution_count": null,
      "metadata": {
        "id": "B_ApgNz4KXTX",
        "outputId": "7d73947f-104b-44a5-e60e-08f60b804fa6",
        "colab": {
          "base_uri": "https://localhost:8080/",
          "height": 683
        }
      },
      "outputs": [
        {
          "output_type": "display_data",
          "data": {
            "text/plain": [
              "<Figure size 720x360 with 1 Axes>"
            ],
            "image/png": "[encoded data removed]"
          },
          "metadata": {
            "needs_background": "light"
          }
        },
        {
          "output_type": "display_data",
          "data": {
            "text/plain": [
              "<Figure size 720x360 with 1 Axes>"
            ],
            "image/png": "[encoded data removed]"
          },
          "metadata": {
            "needs_background": "light"
          }
        }
      ],
      "source": [
        "%matplotlib inline\n",
        "import matplotlib.pyplot as plt\n",
        "plt.rcParams['figure.figsize'] = (10, 5)\n",
        "# Plot training & validation accuracy values\n",
        "plt.plot(history.history['accuracy'])\n",
        "plt.plot(history.history['val_accuracy'])\n",
        "plt.title('Model accuracy')\n",
        "plt.ylabel('Accuracy')\n",
        "plt.xlabel('Epoch')\n",
        "plt.legend(['Train', 'Test'], loc='upper left')\n",
        "plt.show()\n",
        "\n",
        "# Plot training & validation loss values\n",
        "plt.plot(history.history['loss'])\n",
        "plt.plot(history.history['val_loss'])\n",
        "plt.title('Model loss')\n",
        "plt.ylabel('Loss')\n",
        "plt.xlabel('Epoch')\n",
        "plt.legend(['Train', 'Test'], loc='upper left')\n",
        "plt.show()"
      ]
    },
    {
      "cell_type": "code",
      "execution_count": null,
      "metadata": {
        "id": "qSzuJU9UKXTY",
        "outputId": "70b5a368-7b2e-4b77-d8f4-de1bd16ff31f",
        "colab": {
          "base_uri": "https://localhost:8080/"
        }
      },
      "outputs": [
        {
          "output_type": "stream",
          "name": "stdout",
          "text": [
            "8/8 [==============================] - 0s 3ms/step\n"
          ]
        }
      ],
      "source": [
        "#test\n",
        "preds = model.predict(X_valid, verbose = 1)"
      ]
    },
    {
      "cell_type": "code",
      "execution_count": null,
      "metadata": {
        "id": "7LFqSUorKXTZ",
        "outputId": "961c53c5-2640-4578-c68c-777c32aa23a0",
        "colab": {
          "base_uri": "https://localhost:8080/"
        }
      },
      "outputs": [
        {
          "output_type": "stream",
          "name": "stdout",
          "text": [
            "Accuracy: 0.782258\n",
            "Precision: 0.780488\n",
            "Recall: 0.780488\n",
            "F1 score: 0.780488\n",
            "              precision    recall  f1-score   support\n",
            "\n",
            "           0       0.78      0.78      0.78       125\n",
            "           1       0.78      0.78      0.78       123\n"
          ]
        }
      ],
      "source": [
        "from sklearn.metrics import accuracy_score, precision_score, recall_score, f1_score, classification_report\n",
        "import numpy as np\n",
        "#show result scores\n",
        "predict_labels = preds.argmax(axis=-1)\n",
        "true_labels=Y_valid.argmax(axis=-1)\n",
        "# accuracy: (tp + tn) / (p + n)\n",
        "accuracy = accuracy_score(true_labels, predict_labels)\n",
        "print('Accuracy: %f' % accuracy)\n",
        "# precision tp / (tp + fp)\n",
        "precision = precision_score(true_labels, predict_labels)\n",
        "print('Precision: %f' % precision)\n",
        "# recall: tp / (tp + fn)\n",
        "recall = recall_score(true_labels, predict_labels)\n",
        "print('Recall: %f' % recall)\n",
        "# f1: 2 tp / (2 tp + fp + fn)\n",
        "f1 = f1_score(true_labels, predict_labels)\n",
        "print('F1 score: %f' % f1)\n",
        "predict_labels=np.append(predict_labels,1)\n",
        "yhat4 = tf.keras.utils.to_categorical(predict_labels)\n",
        "predict_labels=predict_labels[:-1]\n",
        "yhat4=yhat4[:-1]\n",
        "real = tf.keras.utils.to_categorical(true_labels)\n",
        "print(\"\\n\".join(classification_report(real, yhat4).split('\\n')[:4]))\n"
      ]
    },
    {
      "cell_type": "code",
      "execution_count": null,
      "metadata": {
        "id": "94XuLmJAKXTa"
      },
      "outputs": [],
      "source": []
    },
    {
      "cell_type": "markdown",
      "source": [],
      "metadata": {
        "id": "bRZG_z4YN6tO"
      }
    },
    {
      "cell_type": "markdown",
      "source": [
        "# RNN"
      ],
      "metadata": {
        "id": "QaRJ3fKbOZQE"
      }
    },
    {
      "cell_type": "code",
      "execution_count": 19,
      "metadata": {
        "outputId": "397ab607-3b5e-4845-dd6f-908932ead2f2",
        "colab": {
          "base_uri": "https://localhost:8080/"
        },
        "id": "0RLGt6ezOZQG"
      },
      "outputs": [
        {
          "output_type": "stream",
          "name": "stdout",
          "text": [
            "Model: \"sequential_3\"\n",
            "_________________________________________________________________\n",
            " Layer (type)                Output Shape              Param #   \n",
            "=================================================================\n",
            " embedding_3 (Embedding)     (None, 32, 128)           262912    \n",
            "                                                                 \n",
            " simple_rnn_1 (SimpleRNN)    (None, 200)               65800     \n",
            "                                                                 \n",
            " dense_4 (Dense)             (None, 128)               25728     \n",
            "                                                                 \n",
            " dense_5 (Dense)             (None, 2)                 258       \n",
            "                                                                 \n",
            "=================================================================\n",
            "Total params: 354,698\n",
            "Trainable params: 354,698\n",
            "Non-trainable params: 0\n",
            "_________________________________________________________________\n",
            "None\n"
          ]
        }
      ],
      "source": [
        "embed_dim = 128\n",
        "hidden_size = 200\n",
        "batch_size = 32\n",
        "\n",
        "model = models.Sequential()\n",
        "model.add(layers.Embedding(n_vocab, embed_dim, input_length = X.shape[1]))\n",
        "model.add(layers.SimpleRNN(hidden_size))\n",
        "model.add(layers.Dense(128,activation='sigmoid'))\n",
        "model.add(layers.Dense(2,activation='softmax'))\n",
        "model.compile(loss = 'categorical_crossentropy', optimizer='adam',metrics = ['accuracy'])\n",
        "print(model.summary())"
      ]
    },
    {
      "cell_type": "code",
      "execution_count": 20,
      "metadata": {
        "id": "4usCXAHhOZQH"
      },
      "outputs": [],
      "source": [
        "#tách train test\n",
        "Y = tf.keras.utils.to_categorical(label)\n",
        "X_train, X_valid, Y_train, Y_valid = train_test_split(X, Y, test_size = 0.25, random_state = 36)"
      ]
    },
    {
      "cell_type": "code",
      "execution_count": 21,
      "metadata": {
        "outputId": "bd4671bd-baea-404b-9a6a-42bd62e0f758",
        "colab": {
          "base_uri": "https://localhost:8080/"
        },
        "id": "hGtxYablOZQJ"
      },
      "outputs": [
        {
          "output_type": "stream",
          "name": "stdout",
          "text": [
            "Epoch 1/10\n",
            "21/21 [==============================] - 6s 165ms/step - loss: 0.6965 - accuracy: 0.5411 - val_loss: 0.7375 - val_accuracy: 0.4667\n",
            "Epoch 2/10\n",
            "21/21 [==============================] - 2s 69ms/step - loss: 0.6159 - accuracy: 0.6712 - val_loss: 0.7185 - val_accuracy: 0.4400\n",
            "Epoch 3/10\n",
            "21/21 [==============================] - 2s 90ms/step - loss: 0.3404 - accuracy: 0.8969 - val_loss: 1.0332 - val_accuracy: 0.4667\n",
            "Epoch 4/10\n",
            "21/21 [==============================] - 2s 91ms/step - loss: 0.1766 - accuracy: 0.9342 - val_loss: 1.3661 - val_accuracy: 0.4267\n",
            "Epoch 5/10\n",
            "21/21 [==============================] - 2s 78ms/step - loss: 0.1130 - accuracy: 0.9626 - val_loss: 1.1112 - val_accuracy: 0.4533\n",
            "Epoch 6/10\n",
            "21/21 [==============================] - 1s 56ms/step - loss: 0.0495 - accuracy: 0.9970 - val_loss: 1.3906 - val_accuracy: 0.5200\n",
            "Epoch 7/10\n",
            "21/21 [==============================] - 2s 96ms/step - loss: 0.0245 - accuracy: 0.9925 - val_loss: 1.4859 - val_accuracy: 0.4533\n",
            "Epoch 8/10\n",
            "21/21 [==============================] - 1s 52ms/step - loss: 0.0123 - accuracy: 1.0000 - val_loss: 1.5587 - val_accuracy: 0.4667\n",
            "Epoch 9/10\n",
            "21/21 [==============================] - 1s 38ms/step - loss: 0.0071 - accuracy: 1.0000 - val_loss: 1.6978 - val_accuracy: 0.4800\n",
            "Epoch 10/10\n",
            "21/21 [==============================] - 1s 66ms/step - loss: 0.0050 - accuracy: 1.0000 - val_loss: 1.7831 - val_accuracy: 0.4667\n"
          ]
        }
      ],
      "source": [
        "history = model.fit(X_train, Y_train, batch_size = batch_size, epochs = 10, verbose = 1, validation_split=0.1)"
      ]
    },
    {
      "cell_type": "code",
      "execution_count": 22,
      "metadata": {
        "outputId": "fafd7e10-81c2-4072-abf6-5368e3d73d70",
        "colab": {
          "base_uri": "https://localhost:8080/",
          "height": 683
        },
        "id": "ZTunRIOyOZQK"
      },
      "outputs": [
        {
          "output_type": "display_data",
          "data": {
            "text/plain": [
              "<Figure size 720x360 with 1 Axes>"
            ],
            "image/png": "[encoded data removed]"
          },
          "metadata": {
            "needs_background": "light"
          }
        },
        {
          "output_type": "display_data",
          "data": {
            "text/plain": [
              "<Figure size 720x360 with 1 Axes>"
            ],
            "image/png": "[encoded data removed]"
          },
          "metadata": {
            "needs_background": "light"
          }
        }
      ],
      "source": [
        "%matplotlib inline\n",
        "import matplotlib.pyplot as plt\n",
        "plt.rcParams['figure.figsize'] = (10, 5)\n",
        "# Plot training & validation accuracy values\n",
        "plt.plot(history.history['accuracy'])\n",
        "plt.plot(history.history['val_accuracy'])\n",
        "plt.title('Model accuracy')\n",
        "plt.ylabel('Accuracy')\n",
        "plt.xlabel('Epoch')\n",
        "plt.legend(['Train', 'Test'], loc='upper left')\n",
        "plt.show()\n",
        "\n",
        "# Plot training & validation loss values\n",
        "plt.plot(history.history['loss'])\n",
        "plt.plot(history.history['val_loss'])\n",
        "plt.title('Model loss')\n",
        "plt.ylabel('Loss')\n",
        "plt.xlabel('Epoch')\n",
        "plt.legend(['Train', 'Test'], loc='upper left')\n",
        "plt.show()"
      ]
    },
    {
      "cell_type": "code",
      "execution_count": 23,
      "metadata": {
        "outputId": "2c0efb8c-b785-4b2c-f938-90bc65e7503a",
        "colab": {
          "base_uri": "https://localhost:8080/"
        },
        "id": "JUH1yB2mOZQL"
      },
      "outputs": [
        {
          "output_type": "stream",
          "name": "stdout",
          "text": [
            "8/8 [==============================] - 0s 5ms/step\n"
          ]
        }
      ],
      "source": [
        "#test\n",
        "preds = model.predict(X_valid, verbose = 1)"
      ]
    },
    {
      "cell_type": "code",
      "execution_count": 24,
      "metadata": {
        "outputId": "07a4a20a-dcbf-4e47-f7aa-82d808a240f0",
        "colab": {
          "base_uri": "https://localhost:8080/"
        },
        "id": "SsysNWBJOZQN"
      },
      "outputs": [
        {
          "output_type": "stream",
          "name": "stdout",
          "text": [
            "Accuracy: 0.560484\n",
            "Precision: 0.554688\n",
            "Recall: 0.577236\n",
            "F1 score: 0.565737\n",
            "              precision    recall  f1-score   support\n",
            "\n",
            "           0       0.57      0.54      0.56       125\n",
            "           1       0.55      0.58      0.57       123\n"
          ]
        }
      ],
      "source": [
        "from sklearn.metrics import accuracy_score, precision_score, recall_score, f1_score, classification_report\n",
        "import numpy as np\n",
        "#show result scores\n",
        "predict_labels = preds.argmax(axis=-1)\n",
        "true_labels=Y_valid.argmax(axis=-1)\n",
        "# accuracy: (tp + tn) / (p + n)\n",
        "accuracy = accuracy_score(true_labels, predict_labels)\n",
        "print('Accuracy: %f' % accuracy)\n",
        "# precision tp / (tp + fp)\n",
        "precision = precision_score(true_labels, predict_labels)\n",
        "print('Precision: %f' % precision)\n",
        "# recall: tp / (tp + fn)\n",
        "recall = recall_score(true_labels, predict_labels)\n",
        "print('Recall: %f' % recall)\n",
        "# f1: 2 tp / (2 tp + fp + fn)\n",
        "f1 = f1_score(true_labels, predict_labels)\n",
        "print('F1 score: %f' % f1)\n",
        "predict_labels=np.append(predict_labels,1)\n",
        "yhat4 = tf.keras.utils.to_categorical(predict_labels)\n",
        "predict_labels=predict_labels[:-1]\n",
        "yhat4=yhat4[:-1]\n",
        "real = tf.keras.utils.to_categorical(true_labels)\n",
        "print(\"\\n\".join(classification_report(real, yhat4).split('\\n')[:4]))\n"
      ]
    },
    {
      "cell_type": "code",
      "execution_count": 24,
      "metadata": {
        "id": "d1C8xNnmOZQO"
      },
      "outputs": [],
      "source": []
    },
    {
      "cell_type": "markdown",
      "source": [],
      "metadata": {
        "id": "3PyiNKNNOZQP"
      }
    }
  ],
  "metadata": {
    "kernelspec": {
      "display_name": "Python 3 (ipykernel)",
      "language": "python",
      "name": "python3"
    },
    "language_info": {
      "codemirror_mode": {
        "name": "ipython",
        "version": 3
      },
      "file_extension": ".py",
      "mimetype": "text/x-python",
      "name": "python",
      "nbconvert_exporter": "python",
      "pygments_lexer": "ipython3",
      "version": "3.9.13"
    },
    "colab": {
      "provenance": [],
      "collapsed_sections": [
        "__0WoiH4Nz2w"
      ]
    },
    "accelerator": "GPU",
    "gpuClass": "standard"
  },
  "nbformat": 4,
  "nbformat_minor": 0
}