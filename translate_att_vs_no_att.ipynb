{
  "nbformat": 4,
  "nbformat_minor": 0,
  "metadata": {
    "colab": {
      "provenance": [],
      "toc_visible": true
    },
    "kernelspec": {
      "name": "python3",
      "display_name": "Python 3"
    },
    "accelerator": "GPU",
    "gpuClass": "standard"
  },
  "cells": [
    {
      "cell_type": "markdown",
      "source": [
        "# Init"
      ],
      "metadata": {
        "id": "biYV_rLY3cnA"
      }
    },
    {
      "cell_type": "code",
      "metadata": {
        "id": "8Wh-m0eoBgju"
      },
      "source": [
        "import tensorflow as tf\n",
        "import numpy as np\n",
        "import matplotlib.pyplot as plt\n",
        "import random\n",
        "import os\n",
        "import io\n",
        "import string\n",
        "import re\n",
        "from sklearn.model_selection import train_test_split\n",
        "import nltk"
      ],
      "execution_count": 1,
      "outputs": []
    },
    {
      "cell_type": "code",
      "source": [
        "from os.path import exists\n",
        "dataset_file = \"train.en.txt\"\n",
        "if exists(dataset_file) == True:\n",
        "  print(dataset_file + \" already exists.\")\n",
        "else:\n",
        "  !wget https://github.com/trungthanhnguyen0502/pet-translate/raw/master/dataset/train.en.txt"
      ],
      "metadata": {
        "colab": {
          "base_uri": "https://localhost:8080/"
        },
        "id": "CSzxwZBkWmhE",
        "outputId": "9de2f363-bdcc-4767-89fd-030d52ee2f31"
      },
      "execution_count": 2,
      "outputs": [
        {
          "output_type": "stream",
          "name": "stdout",
          "text": [
            "train.en.txt already exists.\n"
          ]
        }
      ]
    },
    {
      "cell_type": "code",
      "source": [
        "from os.path import exists\n",
        "dataset_file = \"train.vi.txt\"\n",
        "if exists(dataset_file) == True:\n",
        "  print(dataset_file + \" already exists.\")\n",
        "else:\n",
        "  !wget https://github.com/trungthanhnguyen0502/pet-translate/raw/master/dataset/train.vi.txt"
      ],
      "metadata": {
        "colab": {
          "base_uri": "https://localhost:8080/"
        },
        "id": "YFCgPUWgWu-U",
        "outputId": "e74ed75f-126d-4466-c685-d8e93fd5a3e9"
      },
      "execution_count": 3,
      "outputs": [
        {
          "output_type": "stream",
          "name": "stdout",
          "text": [
            "train.vi.txt already exists.\n"
          ]
        }
      ]
    },
    {
      "cell_type": "code",
      "metadata": {
        "id": "Ctwg1Cz0Bgj0"
      },
      "source": [
        "en_filename = \"train.en.txt\"\n",
        "vi_filename = \"train.vi.txt\"\n",
        "\n",
        "raw_en_lines = open(en_filename, encoding='utf-8').read().strip().split(\"\\n\")\n",
        "raw_vi_lines = open(vi_filename, encoding='utf-8').read().strip().split(\"\\n\")"
      ],
      "execution_count": 4,
      "outputs": []
    },
    {
      "cell_type": "markdown",
      "source": [
        "# Original (With attention)"
      ],
      "metadata": {
        "id": "eh80PvOweRjl"
      }
    },
    {
      "cell_type": "code",
      "metadata": {
        "id": "g8YFiaD0Bgj2"
      },
      "source": [
        "exclude = list(string.punctuation) + list(string.digits)\n",
        "\n",
        "def preprocess(sentence):\n",
        "    sent = sentence.lower()\n",
        "    sent = sent.strip()\n",
        "    sent = re.sub(\"'\", \" \", sent)\n",
        "    sent = re.sub(\"\\s+\", \" \", sent)\n",
        "    sent = ''.join([char for char in sent if char not in exclude])\n",
        "    sent = \"<start> \" + sent + \" <end>\"\n",
        "    return sent"
      ],
      "execution_count": 5,
      "outputs": []
    },
    {
      "cell_type": "code",
      "metadata": {
        "id": "ns3dSIsdBgj4",
        "outputId": "7821eca6-8179-4858-ba5a-01f441645265",
        "colab": {
          "base_uri": "https://localhost:8080/"
        }
      },
      "source": [
        "en_lines = []\n",
        "vi_lines = []\n",
        "min_len, max_len = 10, 14\n",
        "\n",
        "for eline, vline in zip(raw_en_lines, raw_vi_lines):\n",
        "    eline = preprocess(eline)\n",
        "    vline = preprocess(vline)\n",
        "    if min_len < len(eline.split(\" \")) < max_len and min_len < len(vline.split(\" \")) < max_len:\n",
        "        en_lines.append(eline)\n",
        "        vi_lines.append(vline)\n",
        "        \n",
        "print(len(en_lines))"
      ],
      "execution_count": 6,
      "outputs": [
        {
          "output_type": "stream",
          "name": "stdout",
          "text": [
            "6016\n"
          ]
        }
      ]
    },
    {
      "cell_type": "code",
      "metadata": {
        "id": "M155yoJ6Bgj-"
      },
      "source": [
        "class Language():\n",
        "    def __init__(self, lines):\n",
        "        self.lines = lines\n",
        "        self.word2id = {}\n",
        "        self.id2word = {}\n",
        "        self.vocab = set()\n",
        "        self.max_len = 0\n",
        "        self.min_len = 0\n",
        "        self.vocab_size = 0\n",
        "        self.init_language_params()\n",
        "\n",
        "    def init_language_params(self):\n",
        "        for line in self.lines:\n",
        "            self.vocab.update(line.split(\" \"))\n",
        "        self.word2id['<pad>'] = 0\n",
        "        for id, word in enumerate(self.vocab):\n",
        "            self.word2id[word] = id + 1\n",
        "        for word, id in self.word2id.items():\n",
        "            self.id2word[id] = word\n",
        "        self.max_len = max([len(line.split(\" \")) for line in self.lines])\n",
        "        self.min_len = min([len(line.split(\" \")) for line in self.lines])\n",
        "        self.vocab_size = len(self.vocab) + 1\n",
        "            \n",
        "    def sentence_to_vector(self, sent):\n",
        "        return np.array([self.word2id[word] for word in sent.split(\" \")])\n",
        "            \n",
        "    def vector_to_sentence(self, vector):\n",
        "        return \" \".join([self.id2word[id] for id in vector])"
      ],
      "execution_count": 7,
      "outputs": []
    },
    {
      "cell_type": "code",
      "metadata": {
        "id": "lytHfioABgkA",
        "outputId": "76434e92-76f5-44b5-e600-5bf74abbb2ac",
        "colab": {
          "base_uri": "https://localhost:8080/"
        }
      },
      "source": [
        "inp_lang = Language(en_lines)\n",
        "tar_lang = Language(vi_lines)\n",
        "print(inp_lang.max_len, inp_lang.min_len)\n",
        "print(tar_lang.max_len, tar_lang.min_len)\n",
        "\n",
        "inp_vector = [inp_lang.sentence_to_vector(line) for line in inp_lang.lines]\n",
        "tar_vector = [tar_lang.sentence_to_vector(line) for line in tar_lang.lines]\n",
        "\n",
        "inp_tensor = tf.keras.preprocessing.sequence.pad_sequences(inp_vector, inp_lang.max_len, padding='post')\n",
        "tar_tensor = tf.keras.preprocessing.sequence.pad_sequences(tar_vector, tar_lang.max_len, padding='post')\n",
        "print(inp_tensor.shape, tar_tensor.shape)"
      ],
      "execution_count": 8,
      "outputs": [
        {
          "output_type": "stream",
          "name": "stdout",
          "text": [
            "13 11\n",
            "13 11\n",
            "(6016, 13) (6016, 13)\n"
          ]
        }
      ]
    },
    {
      "cell_type": "code",
      "metadata": {
        "id": "TD0jgFQDBgkD",
        "outputId": "8d0b0131-0061-422e-bdc9-2c81a34e03a5",
        "colab": {
          "base_uri": "https://localhost:8080/"
        }
      },
      "source": [
        "x_train, x_val, y_train, y_val = train_test_split(inp_tensor, tar_tensor, test_size=0.1)\n",
        "\n",
        "BATCH_SIZE = 32\n",
        "BUFFER_SIZE = x_train.shape[0]\n",
        "N_BATCH = BUFFER_SIZE//BATCH_SIZE\n",
        "hidden_unit = 1024\n",
        "embedding_size = 256\n",
        "print(BUFFER_SIZE)\n",
        "\n",
        "\n",
        "dataset = tf.data.Dataset.from_tensor_slices((x_train, y_train))\n",
        "dataset = dataset.batch(BATCH_SIZE)"
      ],
      "execution_count": 9,
      "outputs": [
        {
          "output_type": "stream",
          "name": "stdout",
          "text": [
            "5414\n"
          ]
        }
      ]
    },
    {
      "cell_type": "code",
      "metadata": {
        "id": "Zcyz7jK0BgkG",
        "outputId": "a13d5ba4-7248-47ee-b0a4-bb432cab1e31",
        "colab": {
          "base_uri": "https://localhost:8080/"
        }
      },
      "source": [
        "tmp_x, tmp_y = next(iter(dataset))\n",
        "print(tmp_x.shape)\n",
        "print(tmp_y.shape)"
      ],
      "execution_count": 10,
      "outputs": [
        {
          "output_type": "stream",
          "name": "stdout",
          "text": [
            "(32, 13)\n",
            "(32, 13)\n"
          ]
        }
      ]
    },
    {
      "cell_type": "code",
      "metadata": {
        "id": "9SLKFFDRBgkI"
      },
      "source": [
        "class Encode(tf.keras.Model):\n",
        "    def __init__(self, embedding_size, vocab_size, hidden_units):\n",
        "        super(Encode, self).__init__()\n",
        "        self.Embedding = tf.keras.layers.Embedding(vocab_size,embedding_size)\n",
        "        self.GRU = tf.keras.layers.GRU(\n",
        "            hidden_units,\n",
        "            return_sequences=True,\n",
        "            return_state=True,\n",
        "            recurrent_initializer='glorot_uniform')\n",
        "        self.hidden_units = hidden_units\n",
        "        \n",
        "    def call(self, x, hidden_state):\n",
        "        try:\n",
        "            x = self.Embedding(x)\n",
        "        except:\n",
        "            print(x, print(inp_lang.vocab_size))          \n",
        "        outputs, last_state = self.GRU(x, hidden_state)\n",
        "        return outputs, last_state\n",
        "    \n",
        "    def init_hidden_state(self, batch_size):\n",
        "        return tf.zeros([batch_size, self.hidden_units])"
      ],
      "execution_count": 11,
      "outputs": []
    },
    {
      "cell_type": "code",
      "metadata": {
        "id": "_Bv5RJy2BgkK",
        "colab": {
          "base_uri": "https://localhost:8080/"
        },
        "outputId": "02cc0458-c38e-44dc-c644-00dd7a760cb3"
      },
      "source": [
        "encoder = Encode(embedding_size, inp_lang.vocab_size, hidden_unit)\n",
        "hidden_state = encoder.init_hidden_state(BATCH_SIZE)\n",
        "tmp_outputs, last_state = encoder(tmp_x, hidden_state)\n",
        "print(tmp_outputs.shape)\n",
        "print(last_state.shape)"
      ],
      "execution_count": 12,
      "outputs": [
        {
          "output_type": "stream",
          "name": "stdout",
          "text": [
            "(32, 13, 1024)\n",
            "(32, 1024)\n"
          ]
        }
      ]
    },
    {
      "cell_type": "code",
      "metadata": {
        "id": "3BhTc-AMBgkN"
      },
      "source": [
        "class Attention(tf.keras.Model):\n",
        "    def __init__(self, hidden_units):\n",
        "        super(Attention, self).__init__()\n",
        "        self.W_out_encode = tf.keras.layers.Dense(hidden_unit)\n",
        "        self.W_state = tf.keras.layers.Dense(hidden_unit)\n",
        "        self.V = tf.keras.layers.Dense(1)\n",
        "        \n",
        "    def call(self, encode_outs, pre_state):\n",
        "        pre_state = tf.expand_dims(pre_state, axis=1)\n",
        "        pre_state = self.W_state(pre_state)\n",
        "        encode_outs = self.W_out_encode(encode_outs)\n",
        "        score = self.V(\n",
        "            tf.nn.tanh(\n",
        "                pre_state + encode_outs)\n",
        "        )\n",
        "        score = tf.nn.softmax(score, axis=1)\n",
        "        context_vector = score*encode_outs\n",
        "        context_vector = tf.reduce_sum(context_vector, axis=1)\n",
        "        return context_vector, score\n",
        "    "
      ],
      "execution_count": 13,
      "outputs": []
    },
    {
      "cell_type": "code",
      "metadata": {
        "id": "QTEV2cEdBgkP",
        "colab": {
          "base_uri": "https://localhost:8080/"
        },
        "outputId": "21d48708-5c4d-416f-aa04-8906bea374da"
      },
      "source": [
        "attention = Attention(hidden_unit)\n",
        "context_vector, attention_weight = attention(tmp_outputs, last_state)\n",
        "print(context_vector.shape, attention_weight.shape)"
      ],
      "execution_count": 14,
      "outputs": [
        {
          "output_type": "stream",
          "name": "stdout",
          "text": [
            "(32, 1024) (32, 13, 1)\n"
          ]
        }
      ]
    },
    {
      "cell_type": "code",
      "metadata": {
        "id": "Y9beRmrQBgkR",
        "colab": {
          "base_uri": "https://localhost:8080/"
        },
        "outputId": "152845d4-f09b-4ba0-d2ea-a3dc0b710fdb"
      },
      "source": [
        "class Decode(tf.keras.Model):\n",
        "    def __init__(self, vocab_size, embedding_size, hidden_units):\n",
        "        super(Decode, self).__init__()\n",
        "        self.hidden_units = hidden_units\n",
        "        self.Embedding = tf.keras.layers.Embedding(vocab_size,embedding_size)\n",
        "        self.Attention = Attention(hidden_units)\n",
        "        self.GRU = tf.keras.layers.GRU(\n",
        "            hidden_units,\n",
        "            return_sequences=True,\n",
        "            return_state=True,\n",
        "            recurrent_initializer='glorot_uniform'\n",
        "        )\n",
        "        self.Fc = tf.keras.layers.Dense(vocab_size)\n",
        "            \n",
        "    def call(self, x, encode_outs, pre_state):\n",
        "        x = tf.expand_dims(x, axis=1)\n",
        "        try:\n",
        "            x = self.Embedding(x)\n",
        "        except:\n",
        "            print(x, print(tar_lang.vocab_size))          \n",
        "        context_vector, attention_weight = self.Attention(encode_outs, pre_state)\n",
        "        context_vector = tf.expand_dims(context_vector, axis=1)\n",
        "        gru_inp = tf.concat([x, context_vector], axis=-1)\n",
        "        out_gru, state = self.GRU(gru_inp)\n",
        "        out_gru = tf.reshape(out_gru, (-1, out_gru.shape[2]))\n",
        "        return self.Fc(out_gru), state\n",
        "    \n",
        "    \n",
        "decode = Decode(tar_lang.vocab_size, embedding_size, hidden_unit)\n",
        "print(last_state.shape, tmp_outputs.shape, tmp_y[:, 0].shape)\n",
        "decode_out, state = decode(tmp_y[:, 0], tmp_outputs, last_state)"
      ],
      "execution_count": 15,
      "outputs": [
        {
          "output_type": "stream",
          "name": "stdout",
          "text": [
            "(32, 1024) (32, 13, 1024) (32,)\n"
          ]
        }
      ]
    },
    {
      "cell_type": "code",
      "metadata": {
        "id": "c17XofrSBgkT"
      },
      "source": [
        "def loss_function(real, pred):\n",
        "    mask = 1 - np.equal(real, 0)\n",
        "    loss_ = tf.nn.sparse_softmax_cross_entropy_with_logits(labels=real, logits=pred) * mask\n",
        "    return tf.reduce_mean(loss_)"
      ],
      "execution_count": 16,
      "outputs": []
    },
    {
      "cell_type": "code",
      "metadata": {
        "id": "GDeHi5MuBgkZ"
      },
      "source": [
        "EPOCHS = 10 #originally 100\n",
        "optimizer = tf.keras.optimizers.Adam()\n",
        "encoder = Encode(embedding_size, vocab_size=inp_lang.vocab_size, hidden_units=hidden_unit)\n",
        "decoder = Decode(vocab_size=tar_lang.vocab_size, embedding_size=embedding_size, hidden_units=hidden_unit)"
      ],
      "execution_count": 17,
      "outputs": []
    },
    {
      "cell_type": "code",
      "metadata": {
        "id": "CD68uO8EBgkc",
        "outputId": "7fff8c10-66f6-4aa8-ea8f-f591a9e857fe",
        "colab": {
          "base_uri": "https://localhost:8080/"
        }
      },
      "source": [
        "for epoch in range(EPOCHS):\n",
        "    total_loss = 0\n",
        "    for batch_id, (x, y) in enumerate(dataset.take(N_BATCH)):\n",
        "        loss = 0\n",
        "        with tf.GradientTape() as tape:\n",
        "            first_state = encoder.init_hidden_state(batch_size=BATCH_SIZE)\n",
        "            encode_outs, last_state = encoder(x, first_state)\n",
        "            decode_state = last_state\n",
        "            decode_input = [tar_lang.word2id[\"<start>\"]]*BATCH_SIZE\n",
        "            \n",
        "            for i in range(1, y.shape[1]):\n",
        "                decode_out, decode_state = decoder(decode_input, encode_outs, decode_state)\n",
        "                loss += loss_function(y[:, i], decode_out)\n",
        "                decode_input = y[:, i]\n",
        "                \n",
        "            train_vars = encoder.trainable_variables + decoder.trainable_variables\n",
        "            grads = tape.gradient(loss, train_vars)\n",
        "            optimizer.apply_gradients(zip(grads, train_vars))\n",
        "        total_loss += loss\n",
        "    print(total_loss.numpy())"
      ],
      "execution_count": 18,
      "outputs": [
        {
          "output_type": "stream",
          "name": "stderr",
          "text": [
            "WARNING:tensorflow:5 out of the last 5 calls to <function _BaseOptimizer._update_step_xla at 0x7fdde05d4820> triggered tf.function retracing. Tracing is expensive and the excessive number of tracings could be due to (1) creating @tf.function repeatedly in a loop, (2) passing tensors with different shapes, (3) passing Python objects instead of tensors. For (1), please define your @tf.function outside of the loop. For (2), @tf.function has reduce_retracing=True option that can avoid unnecessary retracing. For (3), please refer to https://www.tensorflow.org/guide/function#controlling_retracing and https://www.tensorflow.org/api_docs/python/tf/function for  more details.\n",
            "WARNING:tensorflow:6 out of the last 6 calls to <function _BaseOptimizer._update_step_xla at 0x7fdde05d4820> triggered tf.function retracing. Tracing is expensive and the excessive number of tracings could be due to (1) creating @tf.function repeatedly in a loop, (2) passing tensors with different shapes, (3) passing Python objects instead of tensors. For (1), please define your @tf.function outside of the loop. For (2), @tf.function has reduce_retracing=True option that can avoid unnecessary retracing. For (3), please refer to https://www.tensorflow.org/guide/function#controlling_retracing and https://www.tensorflow.org/api_docs/python/tf/function for  more details.\n"
          ]
        },
        {
          "output_type": "stream",
          "name": "stdout",
          "text": [
            "10537.439\n",
            "9054.506\n",
            "8128.941\n",
            "7265.8804\n",
            "6455.336\n",
            "5740.7046\n",
            "5046.525\n",
            "4431.1963\n",
            "3879.8928\n",
            "3425.9524\n"
          ]
        }
      ]
    },
    {
      "cell_type": "code",
      "metadata": {
        "id": "3wvvPpoqH5fL",
        "colab": {
          "base_uri": "https://localhost:8080/"
        },
        "outputId": "bf326b2a-5576-4e29-ed18-8cf413a2e4e5"
      },
      "source": [
        "def translate(inputs):\n",
        "    print(inp_lang.vector_to_sentence(inputs[0].numpy()))\n",
        "    result = ''\n",
        "\n",
        "    hidden = encoder.init_hidden_state(batch_size=1)\n",
        "    enc_out, enc_hidden = encoder(inputs, hidden)\n",
        "    dec_hidden = enc_hidden\n",
        "    print(enc_out.shape, dec_hidden.shape)\n",
        "    \n",
        "    dec_input = [tar_lang.word2id['<start>']]\n",
        "    for t in range(tar_lang.max_len):\n",
        "        predictions, dec_hidden = decoder(dec_input, enc_out, dec_hidden)\n",
        "        predicted_id = tf.argmax(predictions[0]).numpy()\n",
        "        result += tar_lang.id2word[predicted_id] + ' '\n",
        "        dec_input = [predicted_id]\n",
        "    return result\n",
        "  \n",
        "# với mục đích demo, mình sẽ test trên chính dữ liệu train, \n",
        "# đó là 1 mẹo kiểm tra model của bạn có hoạt động hay không, \n",
        "# nếu không hoạt động có nghĩa rằng thuật toán của bạn chưa đúng\n",
        "for inp, tar in dataset.take(N_BATCH):\n",
        "    print(translate(inp[1:2,:]))\n",
        "    break"
      ],
      "execution_count": 19,
      "outputs": [
        {
          "output_type": "stream",
          "name": "stdout",
          "text": [
            "<start> the toast is then deposited for some time  <end> <pad> <pad>\n",
            "(1, 13, 1024) (1, 1024)\n",
            "lát bánh mì nhảy ra rất lâu rồi  <end> không  <end> \n"
          ]
        }
      ]
    },
    {
      "cell_type": "code",
      "source": [
        "def compute_bleu_score(predictions, references):\n",
        "    bleu_scores = []\n",
        "    for i in range(len(predictions)):\n",
        "        predicted_sentence = predictions[i]\n",
        "        reference_sentence = [tar_lang.vector_to_sentence(ref.numpy()) for ref in references[i]]\n",
        "        predicted_sentence = predicted_sentence.split()\n",
        "        reference_sentence = [ref.split() for ref in reference_sentence]\n",
        "        bleu_score = nltk.translate.bleu_score.sentence_bleu(reference_sentence, predicted_sentence)\n",
        "        bleu_scores.append(bleu_score)\n",
        "    return bleu_scores"
      ],
      "metadata": {
        "id": "kZnBIkSK3Wbn"
      },
      "execution_count": 20,
      "outputs": []
    },
    {
      "cell_type": "code",
      "source": [
        "# test the compute_bleu_score function on a batch of data\n",
        "predictions = []\n",
        "references = []\n",
        "for inp, tar in dataset.take(N_BATCH):\n",
        "    predicted_sentence = translate(inp[1:2, :])\n",
        "    predictions.append(predicted_sentence)\n",
        "    references.append(tar)"
      ],
      "metadata": {
        "id": "HsT2YapkBPAk"
      },
      "execution_count": null,
      "outputs": []
    },
    {
      "cell_type": "code",
      "source": [
        "bleu_score_att = compute_bleu_score(predictions, references)"
      ],
      "metadata": {
        "id": "QTnfiiMiBH19"
      },
      "execution_count": null,
      "outputs": []
    },
    {
      "cell_type": "markdown",
      "source": [
        "# No attention\n"
      ],
      "metadata": {
        "id": "7Jtiiht1ebai"
      }
    },
    {
      "cell_type": "markdown",
      "source": [
        "`context_vector` is now calculated using the mean of `encode_outs`, along the time axis using `tf.reduce_mean`."
      ],
      "metadata": {
        "id": "A8ZFY2aV3MRl"
      }
    },
    {
      "cell_type": "code",
      "metadata": {
        "colab": {
          "base_uri": "https://localhost:8080/"
        },
        "outputId": "80e58554-7d5f-4d6f-e611-128375d58c89",
        "id": "rMIWcabAeba0"
      },
      "source": [
        "class Decode(tf.keras.Model):\n",
        "    def __init__(self, vocab_size, embedding_size, hidden_units):\n",
        "        super(Decode, self).__init__()\n",
        "        self.hidden_units = hidden_units\n",
        "        self.Embedding = tf.keras.layers.Embedding(vocab_size,embedding_size)\n",
        "        self.GRU = tf.keras.layers.GRU(\n",
        "            hidden_units,\n",
        "            return_sequences=True,\n",
        "            return_state=True,\n",
        "            recurrent_initializer='glorot_uniform'\n",
        "        )\n",
        "        self.Fc = tf.keras.layers.Dense(vocab_size)\n",
        "            \n",
        "    def call(self, x, encode_outs, pre_state):\n",
        "        x = tf.expand_dims(x, axis=1)\n",
        "        try:\n",
        "            x = self.Embedding(x)\n",
        "        except:\n",
        "            print(x, print(tar_lang.vocab_size))          \n",
        "        context_vector = tf.reduce_mean(encode_outs, axis=1)\n",
        "        context_vector = tf.expand_dims(context_vector, axis=1)\n",
        "        gru_inp = tf.concat([x, context_vector], axis=-1)\n",
        "        out_gru, state = self.GRU(gru_inp)\n",
        "        out_gru = tf.reshape(out_gru, (-1, out_gru.shape[2]))\n",
        "        return self.Fc(out_gru), state\n",
        "    \n",
        "    \n",
        "decode = Decode(tar_lang.vocab_size, embedding_size, hidden_unit)\n",
        "print(last_state.shape, tmp_outputs.shape, tmp_y[:, 0].shape)\n",
        "decode_out, state = decode(tmp_y[:, 0], tmp_outputs, last_state)\n"
      ],
      "execution_count": 23,
      "outputs": [
        {
          "output_type": "stream",
          "name": "stdout",
          "text": [
            "(32, 1024) (32, 13, 1024) (32,)\n"
          ]
        }
      ]
    },
    {
      "cell_type": "code",
      "metadata": {
        "outputId": "f68fa59b-353b-400b-c017-0cb1e625448d",
        "colab": {
          "base_uri": "https://localhost:8080/"
        },
        "id": "7O-qLBQ4eba2"
      },
      "source": [
        "for epoch in range(EPOCHS):\n",
        "    total_loss = 0\n",
        "    for batch_id, (x, y) in enumerate(dataset.take(N_BATCH)):\n",
        "        loss = 0\n",
        "        with tf.GradientTape() as tape:\n",
        "            first_state = encoder.init_hidden_state(batch_size=BATCH_SIZE)\n",
        "            encode_outs, last_state = encoder(x, first_state)\n",
        "            decode_state = last_state\n",
        "            decode_input = [tar_lang.word2id[\"<start>\"]]*BATCH_SIZE\n",
        "            \n",
        "            for i in range(1, y.shape[1]):\n",
        "                decode_out, decode_state = decoder(decode_input, encode_outs, decode_state)\n",
        "                loss += loss_function(y[:, i], decode_out)\n",
        "                decode_input = y[:, i]\n",
        "                \n",
        "            train_vars = encoder.trainable_variables + decoder.trainable_variables\n",
        "            grads = tape.gradient(loss, train_vars)\n",
        "            optimizer.apply_gradients(zip(grads, train_vars))\n",
        "        total_loss += loss\n",
        "    print(total_loss.numpy())"
      ],
      "execution_count": 24,
      "outputs": [
        {
          "output_type": "stream",
          "name": "stdout",
          "text": [
            "3027.834\n",
            "2661.7158\n",
            "2332.1653\n",
            "2073.2007\n",
            "1798.7672\n",
            "1565.7195\n",
            "1360.0964\n",
            "1153.2229\n",
            "1007.9381\n",
            "856.67126\n"
          ]
        }
      ]
    },
    {
      "cell_type": "code",
      "metadata": {
        "colab": {
          "base_uri": "https://localhost:8080/"
        },
        "outputId": "bce2495b-5f89-4587-cfe2-5cb842bf683f",
        "id": "LfZpg0qLeba2"
      },
      "source": [
        "def translate(inputs):\n",
        "    print(inp_lang.vector_to_sentence(inputs[0].numpy()))\n",
        "    result = ''\n",
        "\n",
        "    hidden = encoder.init_hidden_state(batch_size=1)\n",
        "    enc_out, enc_hidden = encoder(inputs, hidden)\n",
        "    dec_hidden = enc_hidden\n",
        "    print(enc_out.shape, dec_hidden.shape)\n",
        "    \n",
        "    dec_input = [tar_lang.word2id['<start>']]\n",
        "    for t in range(tar_lang.max_len):\n",
        "        predictions, dec_hidden = decoder(dec_input, enc_out, dec_hidden)\n",
        "        predicted_id = tf.argmax(predictions[0]).numpy()\n",
        "        result += tar_lang.id2word[predicted_id] + ' '\n",
        "        dec_input = [predicted_id]\n",
        "    return result\n",
        "  \n",
        "# với mục đích demo, mình sẽ test trên chính dữ liệu train, \n",
        "# đó là 1 mẹo kiểm tra model của bạn có hoạt động hay không, \n",
        "# nếu không hoạt động có nghĩa rằng thuật toán của bạn chưa đúng\n",
        "for inp, tar in dataset.take(N_BATCH):\n",
        "    print(translate(inp[1:2,:]))\n",
        "    break"
      ],
      "execution_count": 25,
      "outputs": [
        {
          "output_type": "stream",
          "name": "stdout",
          "text": [
            "<start> the toast is then deposited for some time  <end> <pad> <pad>\n",
            "(1, 13, 1024) (1, 1024)\n",
            "lát bánh mì nhảy ra thật tuyệt vời  <end> không  <end> \n"
          ]
        }
      ]
    },
    {
      "cell_type": "code",
      "source": [
        "# test the compute_bleu_score function on a batch of data\n",
        "predictions = []\n",
        "references = []\n",
        "for inp, tar in dataset.take(N_BATCH):\n",
        "    predicted_sentence = translate(inp[1:2, :])\n",
        "    predictions.append(predicted_sentence)\n",
        "    references.append(tar)"
      ],
      "metadata": {
        "id": "wXecawaJcFzp"
      },
      "execution_count": null,
      "outputs": []
    },
    {
      "cell_type": "code",
      "source": [
        "bleu_scores = compute_bleu_score(predictions, references)"
      ],
      "metadata": {
        "id": "VbInLBPs6ETC"
      },
      "execution_count": 27,
      "outputs": []
    },
    {
      "cell_type": "markdown",
      "source": [
        "# Evaluation"
      ],
      "metadata": {
        "id": "CSetsqived0j"
      }
    },
    {
      "cell_type": "code",
      "source": [
        "print(sum(bleu_score_att) / len(bleu_score_att))\n",
        "print(sum(bleu_scores) / len(bleu_scores))"
      ],
      "metadata": {
        "colab": {
          "base_uri": "https://localhost:8080/"
        },
        "id": "qaoyKbn9Kzq8",
        "outputId": "b4a9e2ca-72d7-412d-cc95-ba2263e209da"
      },
      "execution_count": 28,
      "outputs": [
        {
          "output_type": "stream",
          "name": "stdout",
          "text": [
            "0.14478399987155358\n",
            "0.5281532144331972\n"
          ]
        }
      ]
    }
  ]
}